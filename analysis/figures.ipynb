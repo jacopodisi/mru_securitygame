{
 "cells": [
  {
   "cell_type": "code",
   "execution_count": 2,
   "metadata": {
    "collapsed": true
   },
   "outputs": [],
   "source": [
    "import pickle\n",
    "import matplotlib.pyplot as plt\n",
    "import numpy as np"
   ]
  },
  {
   "cell_type": "code",
   "execution_count": 17,
   "metadata": {
    "collapsed": true
   },
   "outputs": [],
   "source": [
    "maxresfile = \"aggregate_maxres_0.pickle\"\n",
    "gamevalsfile = \"aggregate_gamevals_0.pickle\"\n",
    "timesfile = \"aggregate_times_0.pickle\"\n",
    "\n",
    "with open(maxresfile, mode='r') as f:\n",
    "    maxrestuple = pickle.load(f)\n",
    "\n",
    "with open(gamevalsfile, mode='r') as f:\n",
    "    gamevalstuple = pickle.load(f)\n",
    "\n",
    "with open(timesfile, mode='r') as f:\n",
    "    timestuple = pickle.load(f)"
   ]
  },
  {
   "cell_type": "code",
   "execution_count": 19,
   "metadata": {
    "collapsed": true
   },
   "outputs": [],
   "source": [
    "deadix = timestuple[1]\n",
    "ntgtsix = timestuple[2]\n",
    "denix = timestuple[3]\n",
    "timesarr = timestuple[0]\n",
    "maxresarr = maxrestuple[0]\n",
    "gamevalsarr = gamevalstuple[0]"
   ]
  },
  {
   "cell_type": "code",
   "execution_count": 24,
   "metadata": {},
   "outputs": [
    {
     "data": {
      "text/plain": [
       "array([ list([32.38991093635559, 43.42178201675415, 50.10898303985596, 106.20048999786377, 59.575238943099976, 61.245436906814575, 33.51739692687988, 121.06205606460571, 70.45504903793335, 40.31359910964966]),\n",
       "       list([694.6213300228119, 661.3041281700134, 1268.6254711151123, 1730.9789860248566, 800.7055099010468, 802.6168189048767, 681.4974701404572, 1198.6712610721588, 1068.937392950058, 559.4442479610443]),\n",
       "       list([4690.330447912216, 3099.0715367794037, 4902.531069993973, 3503.451922893524, 5317.971032142639, 6430.125080823898, 5651.1970138549805, 4180.54541683197, 3997.269618988037, 3870.420900821686]),\n",
       "       None, None, None, None], dtype=object)"
      ]
     },
     "execution_count": 24,
     "metadata": {},
     "output_type": "execute_result"
    }
   ],
   "source": [
    "timesarr[deadix[5], :, denix[10]]"
   ]
  },
  {
   "cell_type": "code",
   "execution_count": 26,
   "metadata": {},
   "outputs": [],
   "source": [
    "meantime = []\n",
    "ntgts = []\n",
    "for ix, li in enumerate(timesarr[deadix[5], :, denix[10]]):\n",
    "    if li is not None:\n",
    "        ntgts.append(ntgtsix.keys()[ntgtsix.values().index(ix)])\n",
    "        meantime.append(np.mean(li))"
   ]
  },
  {
   "cell_type": "code",
   "execution_count": 27,
   "metadata": {},
   "outputs": [
    {
     "data": {
      "image/png": "[encoded data removed]",
      "text/plain": [
       "<matplotlib.figure.Figure at 0x10bf47c50>"
      ]
     },
     "metadata": {},
     "output_type": "display_data"
    }
   ],
   "source": [
    "plt.plot(ntgts, mean)"
   ]
  },
  {
   "cell_type": "code",
   "execution_count": null,
   "metadata": {
    "collapsed": true
   },
   "outputs": [],
   "source": []
  }
 ],
 "metadata": {
  "kernelspec": {
   "display_name": "Python 2",
   "language": "python",
   "name": "python2"
  },
  "language_info": {
   "codemirror_mode": {
    "name": "ipython",
    "version": 2
   },
   "file_extension": ".py",
   "mimetype": "text/x-python",
   "name": "python",
   "nbconvert_exporter": "python",
   "pygments_lexer": "ipython2",
   "version": "2.7.14"
  }
 },
 "nbformat": 4,
 "nbformat_minor": 2
}
