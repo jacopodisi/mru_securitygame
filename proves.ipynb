{
 "cells": [
  {
   "cell_type": "code",
   "execution_count": 5,
   "metadata": {
    "collapsed": true
   },
   "outputs": [],
   "source": [
    "with open('pool.txt', 'w') as p:\n",
    "    den = 8\n",
    "    for t in [25, 30]:\n",
    "        for d in [5, 10]:\n",
    "            for i in range(10):\n",
    "                p.writelines('-d ' + str(den) + ' -t ' + str(t) + ' -D ' + str(d) + ' -i ' + str(i) + '\\n')\n",
    "    den = 6\n",
    "    for t in [35, 40, 45, 50]:\n",
    "        for d in [5, 10]:\n",
    "            for i in range(2):\n",
    "                p.writelines('-d ' + str(den) + ' -t ' + str(t) + ' -D ' + str(d) + ' -i ' + str(i) + '\\n')\n",
    "    den = 10\n",
    "    for t in [25, 30]:\n",
    "        for d in [10]:\n",
    "            for i in range(10):\n",
    "                p.writelines('-d ' + str(den) + ' -t ' + str(t) + ' -D ' + str(d) + ' -i ' + str(i) + '\\n')\n",
    "    den = 10\n",
    "    for t in [35, 40, 45, 50]:\n",
    "        for d in [5, 10]:\n",
    "            for i in range(2):\n",
    "                p.writelines('-d ' + str(den) + ' -t ' + str(t) + ' -D ' + str(d) + ' -i ' + str(i) + '\\n')\n",
    "    den = 25\n",
    "    for t in [20]:\n",
    "        for d in [4, 5, 10, 15, 19]:\n",
    "            for i in range(10):\n",
    "                p.writelines('-d ' + str(den) + ' -t ' + str(t) + ' -D ' + str(d) + ' -i ' + str(i) + '\\n')\n",
    "    den = 25\n",
    "    for t in [25, 30]:\n",
    "        for d in [5, 10]:\n",
    "            for i in range(10):\n",
    "                p.writelines('-d ' + str(den) + ' -t ' + str(t) + ' -D ' + str(d) + ' -i ' + str(i) + '\\n')\n",
    "    den = 25\n",
    "    for t in [35, 40, 45, 50]:\n",
    "        for d in [5, 10]:\n",
    "            for i in range(2):\n",
    "                p.writelines('-d ' + str(den) + ' -t ' + str(t) + ' -D ' + str(d) + ' -i ' + str(i) + '\\n')"
   ]
  },
  {
   "cell_type": "code",
   "execution_count": 1,
   "metadata": {
    "collapsed": true
   },
   "outputs": [],
   "source": [
    "with open('pool3.txt', 'w') as p:\n",
    "    den = 8\n",
    "    for t in [25, 30]:\n",
    "        for d in [5, 10]:\n",
    "            for i in range(10):\n",
    "                p.writelines('-d ' + str(den) + ' -t ' + str(t) + ' -D ' + str(d) + ' -i ' + str(i) + '\\n')\n",
    "    den = 6\n",
    "    for t in [35, 40, 45, 50]:\n",
    "        for d in [5, 10]:\n",
    "            for i in range(2):\n",
    "                p.writelines('-d ' + str(den) + ' -t ' + str(t) + ' -D ' + str(d) + ' -i ' + str(i) + '\\n')\n",
    "    for den in [10, 25]:\n",
    "        for t in [20]:\n",
    "            for d in [4, 5, 10, 15, 19]:\n",
    "                for i in range(10):\n",
    "                    p.writelines('-d ' + str(den) + ' -t ' + str(t) + ' -D ' + str(d) + ' -i ' + str(i) + '\\n')\n",
    "        for t in [25, 30]:\n",
    "            for d in [5, 10]:\n",
    "                for i in range(10):\n",
    "                    p.writelines('-d ' + str(den) + ' -t ' + str(t) + ' -D ' + str(d) + ' -i ' + str(i) + '\\n')\n",
    "        for t in [35, 40, 45, 50]:\n",
    "            for d in [5, 10]:\n",
    "                for i in range(2):\n",
    "                    p.writelines('-d ' + str(den) + ' -t ' + str(t) + ' -D ' + str(d) + ' -i ' + str(i) + '\\n')"
   ]
  },
  {
   "cell_type": "code",
   "execution_count": 1,
   "metadata": {
    "collapsed": true
   },
   "outputs": [],
   "source": [
    "import xlsxwriter as x"
   ]
  },
  {
   "cell_type": "code",
   "execution_count": 2,
   "metadata": {
    "collapsed": true
   },
   "outputs": [],
   "source": [
    "workbook = x.Workbook('experiment.xlsx')\n",
    "worksheet = workbook.add_worksheet()"
   ]
  },
  {
   "cell_type": "code",
   "execution_count": null,
   "metadata": {
    "collapsed": true
   },
   "outputs": [],
   "source": [
    "\n",
    "den = 8\n",
    "for t in [25, 30]:\n",
    "    for d in [5, 10]:\n",
    "        for i in range(10):\n",
    "            worksheet.write(row, col, str(t) + \".\" + str(d) +\n",
    "                            \".\" + str(den) + \".\" + str(i))\n",
    "            col += 1\n",
    "            if col == 10:\n",
    "                col = 0\n",
    "                row += 1\n",
    "den = 6\n",
    "for t in [35, 40, 45, 50]:\n",
    "    for d in [5, 10]:\n",
    "        for i in range(2):\n",
    "            worksheet.write(row, col, str(t) + \".\" + str(d) +\n",
    "                            \".\" + str(den) + \".\" + str(i))\n",
    "            col += 1\n",
    "            if col == 10:\n",
    "                col = 0\n",
    "                row += 1\n",
    "for den in [10, 25]:\n",
    "    for t in [20]:\n",
    "        for d in [4, 5, 10, 15, 19]:\n",
    "            for i in range(10):\n",
    "                worksheet.write(row, col, str(t) + \".\" + str(d) +\n",
    "                                \".\" + str(den) + \".\" + str(i))\n",
    "                col += 1\n",
    "                if col == 10:\n",
    "                    col = 0\n",
    "                    row += 1\n",
    "    for t in [25, 30]:\n",
    "        for d in [5, 10]:\n",
    "            for i in range(10):\n",
    "                worksheet.write(row, col, str(t) + \".\" + str(d) +\n",
    "                                \".\" + str(den) + \".\" + str(i))\n",
    "                col += 1\n",
    "                if col == 10:\n",
    "                    col = 0\n",
    "                    row += 1\n",
    "    for t in [35, 40, 45, 50]:\n",
    "        for d in [5, 10]:\n",
    "            for i in range(2):\n",
    "                worksheet.write(row, col, str(t) + \".\" + str(d) +\n",
    "                                \".\" + str(den) + \".\" + str(i))\n",
    "                col += 1\n",
    "                if col == 10:\n",
    "                    col = 0\n",
    "                    row += 1"
   ]
  },
  {
   "cell_type": "code",
   "execution_count": 4,
   "metadata": {
    "collapsed": true
   },
   "outputs": [],
   "source": [
    "workbook.close()"
   ]
  },
  {
   "cell_type": "code",
   "execution_count": 2,
   "metadata": {},
   "outputs": [
    {
     "data": {
      "text/plain": [
       "[10, 9, 8, 7, 6, 5, 4, 3, 2, 1]"
      ]
     },
     "execution_count": 2,
     "metadata": {},
     "output_type": "execute_result"
    }
   ],
   "source": [
    "range(10, 0, -1)"
   ]
  },
  {
   "cell_type": "code",
   "execution_count": 3,
   "metadata": {
    "collapsed": true
   },
   "outputs": [],
   "source": [
    "import numpy as np\n",
    "newpl = np.random.random((10000))"
   ]
  },
  {
   "cell_type": "code",
   "execution_count": 4,
   "metadata": {},
   "outputs": [
    {
     "name": "stdout",
     "output_type": "stream",
     "text": [
      "The slowest run took 9.04 times longer than the fastest. This could mean that an intermediate result is being cached.\n",
      "10000 loops, best of 3: 36.6 µs per loop\n"
     ]
    }
   ],
   "source": [
    "%timeit(n = np.delete(newpl, [349]))"
   ]
  },
  {
   "cell_type": "code",
   "execution_count": 5,
   "metadata": {
    "collapsed": true
   },
   "outputs": [],
   "source": [
    "newli = list(newpl)"
   ]
  },
  {
   "cell_type": "code",
   "execution_count": 10,
   "metadata": {},
   "outputs": [
    {
     "data": {
      "text/plain": [
       "0"
      ]
     },
     "execution_count": 10,
     "metadata": {},
     "output_type": "execute_result"
    }
   ],
   "source": [
    "np.random.randint()"
   ]
  },
  {
   "cell_type": "code",
   "execution_count": 2,
   "metadata": {},
   "outputs": [],
   "source": [
    "import pdb\n",
    "import script"
   ]
  },
  {
   "cell_type": "code",
   "execution_count": 2,
   "metadata": {
    "scrolled": true
   },
   "outputs": [
    {
     "name": "stdout",
     "output_type": "stream",
     "text": [
      "> <string>(1)<module>()\n",
      "(Pdb) continue\n"
     ]
    },
    {
     "ename": "TypeError",
     "evalue": "cannot concatenate 'str' and 'int' objects",
     "output_type": "error",
     "traceback": [
      "\u001b[0;31m---------------------------------------------------------------------------\u001b[0m",
      "\u001b[0;31mTypeError\u001b[0m                                 Traceback (most recent call last)",
      "\u001b[0;32m<ipython-input-2-b49ce2cc7c74>\u001b[0m in \u001b[0;36m<module>\u001b[0;34m()\u001b[0m\n\u001b[0;32m----> 1\u001b[0;31m \u001b[0mpdb\u001b[0m\u001b[0;34m.\u001b[0m\u001b[0mrun\u001b[0m\u001b[0;34m(\u001b[0m\u001b[0;34m'script.run(10, 20, 4, 0, enumtype=2)'\u001b[0m\u001b[0;34m)\u001b[0m\u001b[0;34m\u001b[0m\u001b[0m\n\u001b[0m",
      "\u001b[0;32m/usr/local/miniconda3/envs/th/lib/python2.7/pdb.pyc\u001b[0m in \u001b[0;36mrun\u001b[0;34m(statement, globals, locals)\u001b[0m\n\u001b[1;32m   1236\u001b[0m \u001b[0;34m\u001b[0m\u001b[0m\n\u001b[1;32m   1237\u001b[0m \u001b[0;32mdef\u001b[0m \u001b[0mrun\u001b[0m\u001b[0;34m(\u001b[0m\u001b[0mstatement\u001b[0m\u001b[0;34m,\u001b[0m \u001b[0mglobals\u001b[0m\u001b[0;34m=\u001b[0m\u001b[0mNone\u001b[0m\u001b[0;34m,\u001b[0m \u001b[0mlocals\u001b[0m\u001b[0;34m=\u001b[0m\u001b[0mNone\u001b[0m\u001b[0;34m)\u001b[0m\u001b[0;34m:\u001b[0m\u001b[0;34m\u001b[0m\u001b[0m\n\u001b[0;32m-> 1238\u001b[0;31m     \u001b[0mPdb\u001b[0m\u001b[0;34m(\u001b[0m\u001b[0;34m)\u001b[0m\u001b[0;34m.\u001b[0m\u001b[0mrun\u001b[0m\u001b[0;34m(\u001b[0m\u001b[0mstatement\u001b[0m\u001b[0;34m,\u001b[0m \u001b[0mglobals\u001b[0m\u001b[0;34m,\u001b[0m \u001b[0mlocals\u001b[0m\u001b[0;34m)\u001b[0m\u001b[0;34m\u001b[0m\u001b[0m\n\u001b[0m\u001b[1;32m   1239\u001b[0m \u001b[0;34m\u001b[0m\u001b[0m\n\u001b[1;32m   1240\u001b[0m \u001b[0;32mdef\u001b[0m \u001b[0mruneval\u001b[0m\u001b[0;34m(\u001b[0m\u001b[0mexpression\u001b[0m\u001b[0;34m,\u001b[0m \u001b[0mglobals\u001b[0m\u001b[0;34m=\u001b[0m\u001b[0mNone\u001b[0m\u001b[0;34m,\u001b[0m \u001b[0mlocals\u001b[0m\u001b[0;34m=\u001b[0m\u001b[0mNone\u001b[0m\u001b[0;34m)\u001b[0m\u001b[0;34m:\u001b[0m\u001b[0;34m\u001b[0m\u001b[0m\n",
      "\u001b[0;32m/usr/local/miniconda3/envs/th/lib/python2.7/bdb.pyc\u001b[0m in \u001b[0;36mrun\u001b[0;34m(self, cmd, globals, locals)\u001b[0m\n\u001b[1;32m    398\u001b[0m             \u001b[0mcmd\u001b[0m \u001b[0;34m=\u001b[0m \u001b[0mcmd\u001b[0m\u001b[0;34m+\u001b[0m\u001b[0;34m'\\n'\u001b[0m\u001b[0;34m\u001b[0m\u001b[0m\n\u001b[1;32m    399\u001b[0m         \u001b[0;32mtry\u001b[0m\u001b[0;34m:\u001b[0m\u001b[0;34m\u001b[0m\u001b[0m\n\u001b[0;32m--> 400\u001b[0;31m             \u001b[0;32mexec\u001b[0m \u001b[0mcmd\u001b[0m \u001b[0;32min\u001b[0m \u001b[0mglobals\u001b[0m\u001b[0;34m,\u001b[0m \u001b[0mlocals\u001b[0m\u001b[0;34m\u001b[0m\u001b[0m\n\u001b[0m\u001b[1;32m    401\u001b[0m         \u001b[0;32mexcept\u001b[0m \u001b[0mBdbQuit\u001b[0m\u001b[0;34m:\u001b[0m\u001b[0;34m\u001b[0m\u001b[0m\n\u001b[1;32m    402\u001b[0m             \u001b[0;32mpass\u001b[0m\u001b[0;34m\u001b[0m\u001b[0m\n",
      "\u001b[0;32m<string>\u001b[0m in \u001b[0;36m<module>\u001b[0;34m()\u001b[0m\n",
      "\u001b[0;32m/Users/jacopo/Dropbox/University-ComputerEngineering/Thesis/Multi-defender patrolling with alarms/code/script.pyc\u001b[0m in \u001b[0;36mrun\u001b[0;34m(den, ntgts, dead, ix, timeout, logfile, enumtype, enumit)\u001b[0m\n\u001b[1;32m    110\u001b[0m                                    \u001b[0menum\u001b[0m\u001b[0;34m=\u001b[0m\u001b[0menumit\u001b[0m\u001b[0;34m,\u001b[0m\u001b[0;34m\u001b[0m\u001b[0m\n\u001b[1;32m    111\u001b[0m                                    \u001b[0mcovset\u001b[0m\u001b[0;34m=\u001b[0m\u001b[0mcovset\u001b[0m\u001b[0;34m,\u001b[0m\u001b[0;34m\u001b[0m\u001b[0m\n\u001b[0;32m--> 112\u001b[0;31m                                    enumtype=enumtype)\n\u001b[0m\u001b[1;32m    113\u001b[0m \u001b[0;34m\u001b[0m\u001b[0m\n\u001b[1;32m    114\u001b[0m     \u001b[0mio\u001b[0m\u001b[0;34m.\u001b[0m\u001b[0msave_results\u001b[0m\u001b[0;34m(\u001b[0m\u001b[0mntgts\u001b[0m\u001b[0;34m,\u001b[0m \u001b[0mdead\u001b[0m\u001b[0;34m,\u001b[0m \u001b[0mden\u001b[0m\u001b[0;34m,\u001b[0m \u001b[0mix\u001b[0m\u001b[0;34m,\u001b[0m \u001b[0mresult\u001b[0m\u001b[0;34m,\u001b[0m \u001b[0menumtype\u001b[0m\u001b[0;34m)\u001b[0m\u001b[0;34m\u001b[0m\u001b[0m\n",
      "\u001b[0;32m/Users/jacopo/Dropbox/University-ComputerEngineering/Thesis/Multi-defender patrolling with alarms/code/mru/computevalue.py\u001b[0m in \u001b[0;36mcompute_values\u001b[0;34m(graph, rm_dom, enum, covset, enumtype)\u001b[0m\n\u001b[1;32m    150\u001b[0m     \u001b[0;31m# change solution format in a more readable ones\u001b[0m\u001b[0;34m\u001b[0m\u001b[0;34m\u001b[0m\u001b[0m\n\u001b[1;32m    151\u001b[0m     \u001b[0mf_sol\u001b[0m \u001b[0;34m=\u001b[0m \u001b[0mreformat\u001b[0m\u001b[0;34m(\u001b[0m\u001b[0msolutionlist\u001b[0m\u001b[0;34m,\u001b[0m \u001b[0mmax_res_strategy\u001b[0m\u001b[0;34m)\u001b[0m\u001b[0;34m\u001b[0m\u001b[0m\n\u001b[0;32m--> 152\u001b[0;31m     \u001b[0;32mprint\u001b[0m \u001b[0;34m' '\u001b[0m \u001b[0;34m+\u001b[0m \u001b[0;36m2\u001b[0m\u001b[0;34m\u001b[0m\u001b[0m\n\u001b[0m\u001b[1;32m    153\u001b[0m     \u001b[0;32mreturn\u001b[0m \u001b[0mf_sol\u001b[0m\u001b[0;34m[\u001b[0m\u001b[0;36m0\u001b[0m\u001b[0;34m]\u001b[0m\u001b[0;34m,\u001b[0m \u001b[0mf_sol\u001b[0m\u001b[0;34m[\u001b[0m\u001b[0;36m1\u001b[0m\u001b[0;34m]\u001b[0m\u001b[0;34m,\u001b[0m \u001b[0mf_sol\u001b[0m\u001b[0;34m[\u001b[0m\u001b[0;36m2\u001b[0m\u001b[0;34m]\u001b[0m\u001b[0;34m,\u001b[0m \u001b[0mtimes_list\u001b[0m\u001b[0;34m,\u001b[0m \u001b[0mcsr\u001b[0m\u001b[0;34m,\u001b[0m \u001b[0mnum_iter\u001b[0m\u001b[0;34m\u001b[0m\u001b[0m\n\u001b[1;32m    154\u001b[0m \u001b[0;34m\u001b[0m\u001b[0m\n",
      "\u001b[0;31mTypeError\u001b[0m: cannot concatenate 'str' and 'int' objects"
     ]
    }
   ],
   "source": [
    "pdb.run('script.run(10, 20, 4, 0, enumtype=2)')"
   ]
  },
  {
   "cell_type": "code",
   "execution_count": 3,
   "metadata": {
    "scrolled": true
   },
   "outputs": [
    {
     "name": "stdout",
     "output_type": "stream",
     "text": [
      "> /Users/jacopo/Dropbox/University-ComputerEngineering/Thesis/Multi-defender patrolling with alarms/code/mru/computevalue.py(152)compute_values()\n",
      "-> print ' ' + 2\n",
      "(Pdb) up\n",
      "> /Users/jacopo/Dropbox/University-ComputerEngineering/Thesis/Multi-defender patrolling with alarms/code/script.py(112)run()\n",
      "-> enumtype=enumtype)\n",
      "(Pdb) down\n",
      "> /Users/jacopo/Dropbox/University-ComputerEngineering/Thesis/Multi-defender patrolling with alarms/code/mru/computevalue.py(152)compute_values()\n",
      "-> print ' ' + 2\n",
      "(Pdb) pp f_sol\n",
      "({2: 0.6814961771212054, 3: 0.7602865576530196, 4: 0.8819898935388918, 5: 1},\n",
      " {2: [(1, 3), (2, 5)],\n",
      "  3: [(1, 6), (2, 15), (3, 16)],\n",
      "  4: [(1, 2), (2, 6), (3, 15), (4, 16)],\n",
      "  5: [(1, 4), (2, 5), (3, 6), (4, 7), (5, 16)]},\n",
      " {2: [([(1, 1), (2, 0)], 0.16689918587497488),\n",
      "      ([(1, 1), (2, 7)], 0.067951179698620093),\n",
      "      ([(1, 1), (2, 10)], 0.1456270568313614),\n",
      "      ([(1, 2), (2, 7)], 0.40494347351080323),\n",
      "      ([(1, 1), (2, 3)], 0.093835334153525629),\n",
      "      ([(1, 1), (2, 6)], 0.12074376993071514)],\n",
      "  3: [([(1, 0), (2, 0), (3, 1)], 0.66174884718776061),\n",
      "      ([(1, 0), (2, 0), (3, 3)], 0.33825115281223939)],\n",
      "  4: [([(1, 8), (2, 0), (3, 2), (4, 5)], 0.069565663894349317),\n",
      "      ([(1, 2), (2, 0), (3, 0), (4, 1)], 0.57726908967766077),\n",
      "      ([(1, 3), (2, 0), (3, 2), (4, 1)], 0.25621102656802813),\n",
      "      ([(1, 2), (2, 0), (3, 2), (4, 3)], 0.096954219859961749)],\n",
      "  5: [([(1, 0), (2, 10), (3, 0), (4, 3), (5, 3)], 1.0)]})\n",
      "(Pdb) pp num_iter\n",
      "{2: 1, 3: 3, 4: 2}\n",
      "(Pdb) quit\n"
     ]
    }
   ],
   "source": [
    "pdb.pm()"
   ]
  },
  {
   "cell_type": "code",
   "execution_count": null,
   "metadata": {
    "scrolled": true
   },
   "outputs": [],
   "source": [
    "pdb.run('script.run(10, 20, 4, 0, enumtype=1, enumit=20)')"
   ]
  },
  {
   "cell_type": "code",
   "execution_count": 18,
   "metadata": {},
   "outputs": [
    {
     "name": "stdout",
     "output_type": "stream",
     "text": [
      "> /Users/jacopo/Dropbox/University-ComputerEngineering/Thesis/Multi-defender patrolling with alarms/code/script.py(91)run()\n",
      "-> \" enumit=\" + enumit)\n",
      "(Pdb) pp f_sol\n",
      "*** NameError: NameError(\"name 'f_sol' is not defined\",)\n"
     ]
    },
    {
     "ename": "KeyboardInterrupt",
     "evalue": "",
     "output_type": "error",
     "traceback": [
      "\u001b[0;31m---------------------------------------------------------------------------\u001b[0m",
      "\u001b[0;31mKeyboardInterrupt\u001b[0m                         Traceback (most recent call last)",
      "\u001b[0;32m<ipython-input-18-619d77b83f20>\u001b[0m in \u001b[0;36m<module>\u001b[0;34m()\u001b[0m\n\u001b[0;32m----> 1\u001b[0;31m \u001b[0mpdb\u001b[0m\u001b[0;34m.\u001b[0m\u001b[0mpm\u001b[0m\u001b[0;34m(\u001b[0m\u001b[0;34m)\u001b[0m\u001b[0;34m\u001b[0m\u001b[0m\n\u001b[0m",
      "\u001b[0;32m/usr/local/miniconda3/envs/th/lib/python2.7/pdb.pyc\u001b[0m in \u001b[0;36mpm\u001b[0;34m()\u001b[0m\n\u001b[1;32m   1268\u001b[0m \u001b[0;34m\u001b[0m\u001b[0m\n\u001b[1;32m   1269\u001b[0m \u001b[0;32mdef\u001b[0m \u001b[0mpm\u001b[0m\u001b[0;34m(\u001b[0m\u001b[0;34m)\u001b[0m\u001b[0;34m:\u001b[0m\u001b[0;34m\u001b[0m\u001b[0m\n\u001b[0;32m-> 1270\u001b[0;31m     \u001b[0mpost_mortem\u001b[0m\u001b[0;34m(\u001b[0m\u001b[0msys\u001b[0m\u001b[0;34m.\u001b[0m\u001b[0mlast_traceback\u001b[0m\u001b[0;34m)\u001b[0m\u001b[0;34m\u001b[0m\u001b[0m\n\u001b[0m\u001b[1;32m   1271\u001b[0m \u001b[0;34m\u001b[0m\u001b[0m\n\u001b[1;32m   1272\u001b[0m \u001b[0;34m\u001b[0m\u001b[0m\n",
      "\u001b[0;32m/usr/local/miniconda3/envs/th/lib/python2.7/pdb.pyc\u001b[0m in \u001b[0;36mpost_mortem\u001b[0;34m(t)\u001b[0m\n\u001b[1;32m   1265\u001b[0m     \u001b[0mp\u001b[0m \u001b[0;34m=\u001b[0m \u001b[0mPdb\u001b[0m\u001b[0;34m(\u001b[0m\u001b[0;34m)\u001b[0m\u001b[0;34m\u001b[0m\u001b[0m\n\u001b[1;32m   1266\u001b[0m     \u001b[0mp\u001b[0m\u001b[0;34m.\u001b[0m\u001b[0mreset\u001b[0m\u001b[0;34m(\u001b[0m\u001b[0;34m)\u001b[0m\u001b[0;34m\u001b[0m\u001b[0m\n\u001b[0;32m-> 1267\u001b[0;31m     \u001b[0mp\u001b[0m\u001b[0;34m.\u001b[0m\u001b[0minteraction\u001b[0m\u001b[0;34m(\u001b[0m\u001b[0mNone\u001b[0m\u001b[0;34m,\u001b[0m \u001b[0mt\u001b[0m\u001b[0;34m)\u001b[0m\u001b[0;34m\u001b[0m\u001b[0m\n\u001b[0m\u001b[1;32m   1268\u001b[0m \u001b[0;34m\u001b[0m\u001b[0m\n\u001b[1;32m   1269\u001b[0m \u001b[0;32mdef\u001b[0m \u001b[0mpm\u001b[0m\u001b[0;34m(\u001b[0m\u001b[0;34m)\u001b[0m\u001b[0;34m:\u001b[0m\u001b[0;34m\u001b[0m\u001b[0m\n",
      "\u001b[0;32m/usr/local/miniconda3/envs/th/lib/python2.7/pdb.pyc\u001b[0m in \u001b[0;36minteraction\u001b[0;34m(self, frame, traceback)\u001b[0m\n\u001b[1;32m    208\u001b[0m         \u001b[0mself\u001b[0m\u001b[0;34m.\u001b[0m\u001b[0msetup\u001b[0m\u001b[0;34m(\u001b[0m\u001b[0mframe\u001b[0m\u001b[0;34m,\u001b[0m \u001b[0mtraceback\u001b[0m\u001b[0;34m)\u001b[0m\u001b[0;34m\u001b[0m\u001b[0m\n\u001b[1;32m    209\u001b[0m         \u001b[0mself\u001b[0m\u001b[0;34m.\u001b[0m\u001b[0mprint_stack_entry\u001b[0m\u001b[0;34m(\u001b[0m\u001b[0mself\u001b[0m\u001b[0;34m.\u001b[0m\u001b[0mstack\u001b[0m\u001b[0;34m[\u001b[0m\u001b[0mself\u001b[0m\u001b[0;34m.\u001b[0m\u001b[0mcurindex\u001b[0m\u001b[0;34m]\u001b[0m\u001b[0;34m)\u001b[0m\u001b[0;34m\u001b[0m\u001b[0m\n\u001b[0;32m--> 210\u001b[0;31m         \u001b[0mself\u001b[0m\u001b[0;34m.\u001b[0m\u001b[0mcmdloop\u001b[0m\u001b[0;34m(\u001b[0m\u001b[0;34m)\u001b[0m\u001b[0;34m\u001b[0m\u001b[0m\n\u001b[0m\u001b[1;32m    211\u001b[0m         \u001b[0mself\u001b[0m\u001b[0;34m.\u001b[0m\u001b[0mforget\u001b[0m\u001b[0;34m(\u001b[0m\u001b[0;34m)\u001b[0m\u001b[0;34m\u001b[0m\u001b[0m\n\u001b[1;32m    212\u001b[0m \u001b[0;34m\u001b[0m\u001b[0m\n",
      "\u001b[0;32m/usr/local/miniconda3/envs/th/lib/python2.7/cmd.pyc\u001b[0m in \u001b[0;36mcmdloop\u001b[0;34m(self, intro)\u001b[0m\n\u001b[1;32m    128\u001b[0m                     \u001b[0;32mif\u001b[0m \u001b[0mself\u001b[0m\u001b[0;34m.\u001b[0m\u001b[0muse_rawinput\u001b[0m\u001b[0;34m:\u001b[0m\u001b[0;34m\u001b[0m\u001b[0m\n\u001b[1;32m    129\u001b[0m                         \u001b[0;32mtry\u001b[0m\u001b[0;34m:\u001b[0m\u001b[0;34m\u001b[0m\u001b[0m\n\u001b[0;32m--> 130\u001b[0;31m                             \u001b[0mline\u001b[0m \u001b[0;34m=\u001b[0m \u001b[0mraw_input\u001b[0m\u001b[0;34m(\u001b[0m\u001b[0mself\u001b[0m\u001b[0;34m.\u001b[0m\u001b[0mprompt\u001b[0m\u001b[0;34m)\u001b[0m\u001b[0;34m\u001b[0m\u001b[0m\n\u001b[0m\u001b[1;32m    131\u001b[0m                         \u001b[0;32mexcept\u001b[0m \u001b[0mEOFError\u001b[0m\u001b[0;34m:\u001b[0m\u001b[0;34m\u001b[0m\u001b[0m\n\u001b[1;32m    132\u001b[0m                             \u001b[0mline\u001b[0m \u001b[0;34m=\u001b[0m \u001b[0;34m'EOF'\u001b[0m\u001b[0;34m\u001b[0m\u001b[0m\n",
      "\u001b[0;32m/usr/local/miniconda3/envs/th/lib/python2.7/site-packages/ipykernel/kernelbase.pyc\u001b[0m in \u001b[0;36mraw_input\u001b[0;34m(self, prompt)\u001b[0m\n\u001b[1;32m    703\u001b[0m             \u001b[0mself\u001b[0m\u001b[0;34m.\u001b[0m\u001b[0m_parent_ident\u001b[0m\u001b[0;34m,\u001b[0m\u001b[0;34m\u001b[0m\u001b[0m\n\u001b[1;32m    704\u001b[0m             \u001b[0mself\u001b[0m\u001b[0;34m.\u001b[0m\u001b[0m_parent_header\u001b[0m\u001b[0;34m,\u001b[0m\u001b[0;34m\u001b[0m\u001b[0m\n\u001b[0;32m--> 705\u001b[0;31m             \u001b[0mpassword\u001b[0m\u001b[0;34m=\u001b[0m\u001b[0mFalse\u001b[0m\u001b[0;34m,\u001b[0m\u001b[0;34m\u001b[0m\u001b[0m\n\u001b[0m\u001b[1;32m    706\u001b[0m         )\n\u001b[1;32m    707\u001b[0m \u001b[0;34m\u001b[0m\u001b[0m\n",
      "\u001b[0;32m/usr/local/miniconda3/envs/th/lib/python2.7/site-packages/ipykernel/kernelbase.pyc\u001b[0m in \u001b[0;36m_input_request\u001b[0;34m(self, prompt, ident, parent, password)\u001b[0m\n\u001b[1;32m    733\u001b[0m             \u001b[0;32mexcept\u001b[0m \u001b[0mKeyboardInterrupt\u001b[0m\u001b[0;34m:\u001b[0m\u001b[0;34m\u001b[0m\u001b[0m\n\u001b[1;32m    734\u001b[0m                 \u001b[0;31m# re-raise KeyboardInterrupt, to truncate traceback\u001b[0m\u001b[0;34m\u001b[0m\u001b[0;34m\u001b[0m\u001b[0m\n\u001b[0;32m--> 735\u001b[0;31m                 \u001b[0;32mraise\u001b[0m \u001b[0mKeyboardInterrupt\u001b[0m\u001b[0;34m\u001b[0m\u001b[0m\n\u001b[0m\u001b[1;32m    736\u001b[0m             \u001b[0;32melse\u001b[0m\u001b[0;34m:\u001b[0m\u001b[0;34m\u001b[0m\u001b[0m\n\u001b[1;32m    737\u001b[0m                 \u001b[0;32mbreak\u001b[0m\u001b[0;34m\u001b[0m\u001b[0m\n",
      "\u001b[0;31mKeyboardInterrupt\u001b[0m: "
     ]
    }
   ],
   "source": [
    "pdb.pm()"
   ]
  },
  {
   "cell_type": "code",
   "execution_count": 5,
   "metadata": {
    "collapsed": true
   },
   "outputs": [],
   "source": [
    "from mru import iomanager as io"
   ]
  },
  {
   "cell_type": "code",
   "execution_count": null,
   "metadata": {
    "collapsed": true
   },
   "outputs": [],
   "source": [
    "io.load_results(20, 4, 10, 0, )"
   ]
  },
  {
   "cell_type": "code",
   "execution_count": 14,
   "metadata": {},
   "outputs": [],
   "source": [
    "import os\n",
    "res_path = \"oldresultnocovset/res_graphs_20_ntgts/res_instance_ntgts_20_den_10_dead_4_graphix_0_ix_0\"\n",
    "res = io.load_file('file/' + res_path + \".pickle\")"
   ]
  },
  {
   "cell_type": "code",
   "execution_count": 16,
   "metadata": {},
   "outputs": [
    {
     "data": {
      "text/plain": [
       "({2: 0.6913807277556825, 3: 0.749927588029915, 4: 0.8528195412864465, 5: 1},\n",
       " {2: [(1, 3), (2, 9)],\n",
       "  3: [(1, 0), (2, 3), (3, 9)],\n",
       "  4: [(1, 0), (2, 2), (3, 6), (4, 15)],\n",
       "  5: [(1, 4), (2, 5), (3, 6), (4, 7), (5, 16)]},\n",
       " {2: [([(1, 1), (2, 1)], 0.19275390594210701),\n",
       "   ([(1, 2), (2, 5)], 0.09092321804967439),\n",
       "   ([(1, 1), (2, 9)], 0.14803089210163653),\n",
       "   ([(1, 1), (2, 13)], 0.079038972913686972),\n",
       "   ([(1, 2), (2, 0)], 0.30145310875676512),\n",
       "   ([(1, 1), (2, 0)], 0.18779990223613036)],\n",
       "  3: [([(1, 4), (2, 0), (3, 10)], 0.10420097457113704),\n",
       "   ([(1, 0), (2, 1), (3, 0)], 0.46748989888530418),\n",
       "   ([(1, 2), (2, 0), (3, 0)], 0.11865476888400812),\n",
       "   ([(1, 2), (2, 1), (3, 9)], 0.30965435765955085)],\n",
       "  4: [([(1, 2), (2, 3), (3, 0), (4, 0)], 0.4063038681880855),\n",
       "   ([(1, 2), (2, 2), (3, 0), (4, 2)], 0.25208191986976736),\n",
       "   ([(1, 0), (2, 2), (3, 0), (4, 2)], 0.027956612695117976),\n",
       "   ([(1, 0), (2, 2), (3, 0), (4, 0)], 0.31365759924702918)],\n",
       "  5: [([(1, 0), (2, 10), (3, 0), (4, 3), (5, 3)], 1.0)]},\n",
       " {0: 0.007749080657958984,\n",
       "  1: 6.5120909214019775,\n",
       "  2: 0.24352693557739258,\n",
       "  3: 0.03503298759460449,\n",
       "  4: 0.8496410846710205,\n",
       "  5: [0.04380989074707031,\n",
       "   0.5522139072418213,\n",
       "   0.043763160705566406,\n",
       "   0.8051040172576904],\n",
       "  6: 28.392460107803345})"
      ]
     },
     "execution_count": 16,
     "metadata": {},
     "output_type": "execute_result"
    }
   ],
   "source": [
    "res"
   ]
  },
  {
   "cell_type": "code",
   "execution_count": null,
   "metadata": {
    "collapsed": true
   },
   "outputs": [],
   "source": []
  }
 ],
 "metadata": {
  "kernelspec": {
   "display_name": "Python 2",
   "language": "python",
   "name": "python2"
  }
 },
 "nbformat": 4,
 "nbformat_minor": 2
}
