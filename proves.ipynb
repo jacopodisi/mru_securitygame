{
 "cells": [
  {
   "cell_type": "code",
   "execution_count": 5,
   "metadata": {
    "collapsed": true
   },
   "outputs": [],
   "source": [
    "with open('pool.txt', 'w') as p:\n",
    "    den = 8\n",
    "    for t in [25, 30]:\n",
    "        for d in [5, 10]:\n",
    "            for i in range(10):\n",
    "                p.writelines('-d ' + str(den) + ' -t ' + str(t) + ' -D ' + str(d) + ' -i ' + str(i) + '\\n')\n",
    "    den = 6\n",
    "    for t in [35, 40, 45, 50]:\n",
    "        for d in [5, 10]:\n",
    "            for i in range(2):\n",
    "                p.writelines('-d ' + str(den) + ' -t ' + str(t) + ' -D ' + str(d) + ' -i ' + str(i) + '\\n')\n",
    "    den = 10\n",
    "    for t in [25, 30]:\n",
    "        for d in [10]:\n",
    "            for i in range(10):\n",
    "                p.writelines('-d ' + str(den) + ' -t ' + str(t) + ' -D ' + str(d) + ' -i ' + str(i) + '\\n')\n",
    "    den = 10\n",
    "    for t in [35, 40, 45, 50]:\n",
    "        for d in [5, 10]:\n",
    "            for i in range(2):\n",
    "                p.writelines('-d ' + str(den) + ' -t ' + str(t) + ' -D ' + str(d) + ' -i ' + str(i) + '\\n')\n",
    "    den = 25\n",
    "    for t in [20]:\n",
    "        for d in [4, 5, 10, 15, 19]:\n",
    "            for i in range(10):\n",
    "                p.writelines('-d ' + str(den) + ' -t ' + str(t) + ' -D ' + str(d) + ' -i ' + str(i) + '\\n')\n",
    "    den = 25\n",
    "    for t in [25, 30]:\n",
    "        for d in [5, 10]:\n",
    "            for i in range(10):\n",
    "                p.writelines('-d ' + str(den) + ' -t ' + str(t) + ' -D ' + str(d) + ' -i ' + str(i) + '\\n')\n",
    "    den = 25\n",
    "    for t in [35, 40, 45, 50]:\n",
    "        for d in [5, 10]:\n",
    "            for i in range(2):\n",
    "                p.writelines('-d ' + str(den) + ' -t ' + str(t) + ' -D ' + str(d) + ' -i ' + str(i) + '\\n')"
   ]
  },
  {
   "cell_type": "code",
   "execution_count": 1,
   "metadata": {
    "collapsed": true
   },
   "outputs": [],
   "source": [
    "with open('pool3.txt', 'w') as p:\n",
    "    den = 8\n",
    "    for t in [25, 30]:\n",
    "        for d in [5, 10]:\n",
    "            for i in range(10):\n",
    "                p.writelines('-d ' + str(den) + ' -t ' + str(t) + ' -D ' + str(d) + ' -i ' + str(i) + '\\n')\n",
    "    den = 6\n",
    "    for t in [35, 40, 45, 50]:\n",
    "        for d in [5, 10]:\n",
    "            for i in range(2):\n",
    "                p.writelines('-d ' + str(den) + ' -t ' + str(t) + ' -D ' + str(d) + ' -i ' + str(i) + '\\n')\n",
    "    for den in [10, 25]:\n",
    "        for t in [20]:\n",
    "            for d in [4, 5, 10, 15, 19]:\n",
    "                for i in range(10):\n",
    "                    p.writelines('-d ' + str(den) + ' -t ' + str(t) + ' -D ' + str(d) + ' -i ' + str(i) + '\\n')\n",
    "        for t in [25, 30]:\n",
    "            for d in [5, 10]:\n",
    "                for i in range(10):\n",
    "                    p.writelines('-d ' + str(den) + ' -t ' + str(t) + ' -D ' + str(d) + ' -i ' + str(i) + '\\n')\n",
    "        for t in [35, 40, 45, 50]:\n",
    "            for d in [5, 10]:\n",
    "                for i in range(2):\n",
    "                    p.writelines('-d ' + str(den) + ' -t ' + str(t) + ' -D ' + str(d) + ' -i ' + str(i) + '\\n')"
   ]
  },
  {
   "cell_type": "code",
   "execution_count": 1,
   "metadata": {
    "collapsed": true
   },
   "outputs": [],
   "source": [
    "import xlsxwriter as x"
   ]
  },
  {
   "cell_type": "code",
   "execution_count": 2,
   "metadata": {
    "collapsed": true
   },
   "outputs": [],
   "source": [
    "workbook = x.Workbook('experiment.xlsx')\n",
    "worksheet = workbook.add_worksheet()"
   ]
  },
  {
   "cell_type": "code",
   "execution_count": null,
   "metadata": {
    "collapsed": true
   },
   "outputs": [],
   "source": [
    "\n",
    "den = 8\n",
    "for t in [25, 30]:\n",
    "    for d in [5, 10]:\n",
    "        for i in range(10):\n",
    "            worksheet.write(row, col, str(t) + \".\" + str(d) +\n",
    "                            \".\" + str(den) + \".\" + str(i))\n",
    "            col += 1\n",
    "            if col == 10:\n",
    "                col = 0\n",
    "                row += 1\n",
    "den = 6\n",
    "for t in [35, 40, 45, 50]:\n",
    "    for d in [5, 10]:\n",
    "        for i in range(2):\n",
    "            worksheet.write(row, col, str(t) + \".\" + str(d) +\n",
    "                            \".\" + str(den) + \".\" + str(i))\n",
    "            col += 1\n",
    "            if col == 10:\n",
    "                col = 0\n",
    "                row += 1\n",
    "for den in [10, 25]:\n",
    "    for t in [20]:\n",
    "        for d in [4, 5, 10, 15, 19]:\n",
    "            for i in range(10):\n",
    "                worksheet.write(row, col, str(t) + \".\" + str(d) +\n",
    "                                \".\" + str(den) + \".\" + str(i))\n",
    "                col += 1\n",
    "                if col == 10:\n",
    "                    col = 0\n",
    "                    row += 1\n",
    "    for t in [25, 30]:\n",
    "        for d in [5, 10]:\n",
    "            for i in range(10):\n",
    "                worksheet.write(row, col, str(t) + \".\" + str(d) +\n",
    "                                \".\" + str(den) + \".\" + str(i))\n",
    "                col += 1\n",
    "                if col == 10:\n",
    "                    col = 0\n",
    "                    row += 1\n",
    "    for t in [35, 40, 45, 50]:\n",
    "        for d in [5, 10]:\n",
    "            for i in range(2):\n",
    "                worksheet.write(row, col, str(t) + \".\" + str(d) +\n",
    "                                \".\" + str(den) + \".\" + str(i))\n",
    "                col += 1\n",
    "                if col == 10:\n",
    "                    col = 0\n",
    "                    row += 1"
   ]
  },
  {
   "cell_type": "code",
   "execution_count": 4,
   "metadata": {
    "collapsed": true
   },
   "outputs": [],
   "source": [
    "workbook.close()"
   ]
  }
 ],
 "metadata": {
  "kernelspec": {
   "display_name": "Python 2",
   "language": "python",
   "name": "python2"
  },
  "language_info": {
   "codemirror_mode": {
    "name": "ipython",
    "version": 2
   },
   "file_extension": ".py",
   "mimetype": "text/x-python",
   "name": "python",
   "nbconvert_exporter": "python",
   "pygments_lexer": "ipython2",
   "version": "2.7.14"
  }
 },
 "nbformat": 4,
 "nbformat_minor": 2
}
