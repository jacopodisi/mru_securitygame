{
 "cells": [
  {
   "cell_type": "code",
   "execution_count": 5,
   "metadata": {},
   "outputs": [],
   "source": [
    "with open('pool.txt', 'w') as p:\n",
    "    den = 8\n",
    "    for t in [30]:\n",
    "        for d in [10]:\n",
    "            for i in range(8,10):\n",
    "                p.writelines('-d ' + str(den) + ' -t ' + str(t) + ' -D ' + str(d) + ' -i ' + str(i) + '\\n')\n",
    "    den = 6\n",
    "    for t in [35, 40, 45, 50]:\n",
    "        for d in [5, 10]:\n",
    "            for i in range(2):\n",
    "                p.writelines('-d ' + str(den) + ' -t ' + str(t) + ' -D ' + str(d) + ' -i ' + str(i) + '\\n')\n",
    "    den = 10\n",
    "    for t in [30]:\n",
    "        for d in [10]:\n",
    "            for i in range(10):\n",
    "                p.writelines('-d ' + str(den) + ' -t ' + str(t) + ' -D ' + str(d) + ' -i ' + str(i) + '\\n')\n",
    "    den = 10\n",
    "    for t in [35, 40, 45, 50]:\n",
    "        for d in [5, 10]:\n",
    "            for i in range(2):\n",
    "                p.writelines('-d ' + str(den) + ' -t ' + str(t) + ' -D ' + str(d) + ' -i ' + str(i) + '\\n')\n",
    "    den = 25\n",
    "    for t in [20]:\n",
    "        for d in [10, 15, 19]:\n",
    "            for i in range(10):\n",
    "                p.writelines('-d ' + str(den) + ' -t ' + str(t) + ' -D ' + str(d) + ' -i ' + str(i) + '\\n')\n",
    "    den = 25\n",
    "    for t in [25, 30]:\n",
    "        for d in [5, 10]:\n",
    "            for i in range(10):\n",
    "                p.writelines('-d ' + str(den) + ' -t ' + str(t) + ' -D ' + str(d) + ' -i ' + str(i) + '\\n')\n",
    "    den = 25\n",
    "    for t in [35, 40, 45, 50]:\n",
    "        for d in [5, 10]:\n",
    "            for i in range(2):\n",
    "                p.writelines('-d ' + str(den) + ' -t ' + str(t) + ' -D ' + str(d) + ' -i ' + str(i) + '\\n')"
   ]
  },
  {
   "cell_type": "code",
   "execution_count": null,
   "metadata": {
    "collapsed": true
   },
   "outputs": [],
   "source": []
  }
 ],
 "metadata": {
  "kernelspec": {
   "display_name": "Python 2",
   "language": "python",
   "name": "python2"
  },
  "language_info": {
   "codemirror_mode": {
    "name": "ipython",
    "version": 2
   },
   "file_extension": ".py",
   "mimetype": "text/x-python",
   "name": "python",
   "nbconvert_exporter": "python",
   "pygments_lexer": "ipython2",
   "version": "2.7.14"
  }
 },
 "nbformat": 4,
 "nbformat_minor": 2
}
